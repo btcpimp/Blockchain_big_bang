{
 "cells": [
  {
   "cell_type": "markdown",
   "metadata": {},
   "source": [
    "# Numerical simulation for upper bound on dynamic blocksize expansion\n",
    "\n",
    "Isthmus - Sept 2018\n",
    "\n",
    "Organization:\n",
    "-  Abstract\n",
    "-  Background reading\n",
    "-  Adversary model\n",
    "-  Threat model\n",
    "-  Mitigation strategies\n",
    "-  Numeric simulations\n",
    "-  Observations\n",
    "-  FAQ\n",
    "\n",
    "## Abstract:\n",
    "The current bound on expansion of the Monero block(/chain) is that a block cannot be larger than the median size of the previous 100 blocks. Given the 2-minute block time, this means that the protocol has a 3-hour memory, which performs well for most use cases. However, it is prudent to consider edge cases as well - the current absence of medium or long-term memory leaves the network susceptible to block size inflation from a well-funded adversary. This notebook quantifies the scale of damage and costs of a worst-case-scenario attack, and suggests some starting points for developing mitigation strategies.\n",
    "\n",
    "## Background Reading:\n",
    "-  Jolly Mort's [Monero Dynamic Block Size and Dynamic Minimum Fee](https://github.com/JollyMort/monero-research/blob/master/Monero%20Dynamic%20Block%20Size%20and%20Dynamic%20Minimum%20Fee/Monero%20Dynamic%20Block%20Size%20and%20Dynamic%20Minimum%20Fee%20-%20DRAFT.md)\n",
    "-  ArticMine's [BitcoinTalk discussion](https://bitcointalk.org/index.php?topic=753252.msg13591241#msg13591241) about oversize block attacks.\n",
    "\n",
    "The topic of blockchain bloat has been discussed in many communities for many years. This notebook is not the first mention of the idea, it simply seeks to model the threat in the context of Monero's protocol.\n",
    "\n",
    "## Adversary model:\n",
    "A well-funded (€€,€€€+) adversary wishes to disrupt the Monero cryptocurrency/network/community. The adversary could be a crypto whale with a trading position against Monero, a 3-letter agency that decides breaking Monero is easier than cracking it, powers that benefit from the incumbent financial/economic systems, or even a careless Monero trader who wishes to sow chaos and reap cheap coins.\n",
    "\n",
    "## Threat model:\n",
    "The attacker creates a set of transactions whose:\n",
    "-  Net fee > coinbase\n",
    "-  Net size ~ 2*median(last 100 blocks)\n",
    "\n",
    "The attacker does not need to mine; they only need to create sets of transactions that other (honest) miners are incentivized to mine.\n",
    "\n",
    "Monero's dynamic blocksize includes a coinbase penalty function to incentivize miners to properly manage block size; the attacker overrides these economic safeguards by including a net fee greater than the coinbase. Given all of the possible subsets of transactions in the memory pool (and taking into account the coinbase penalty), the attacker's transactions must be the most profitable combination, and combine to continuously push the maximum size of the block.\n",
    "\n",
    "**Result: The *block size* doubles every 3 hours, indefinitely. The *blockchain size* doubles in less than a day and grows catastrophically large.**\n",
    "\n",
    "## Mitigation strategies:\n",
    "This notebook contains the first iteration of two crude mitigation approaches:\n",
    "-  **Two-point short/long-term memory**: Same as the current method, but adds a 1-week memory to our current 3-hour memory\n",
    "-  **Span (multi-timescale) memory**: Generalization of the two-point memory.\n",
    "\n",
    "**The mitigation strategies prototyped here are certainly NOT perfect!! The parameters have not been tuned, the edge cases have not been explored, and computational/memory resources have not been taken into account. Please iterate and improve on these rough draft notions, or replace them with better ones. :- )**"
   ]
  },
  {
   "cell_type": "markdown",
   "metadata": {},
   "source": [
    "## Simulations"
   ]
  },
  {
   "cell_type": "markdown",
   "metadata": {},
   "source": [
    "### Import Libraries"
   ]
  },
  {
   "cell_type": "code",
   "execution_count": 1,
   "metadata": {},
   "outputs": [],
   "source": [
    "import numpy as np\n",
    "import matplotlib.pyplot as plt"
   ]
  },
  {
   "cell_type": "markdown",
   "metadata": {},
   "source": [
    "### Set parameters"
   ]
  },
  {
   "cell_type": "markdown",
   "metadata": {},
   "source": [
    "General state information about simulation and cost estimation"
   ]
  },
  {
   "cell_type": "code",
   "execution_count": 2,
   "metadata": {},
   "outputs": [],
   "source": [
    "# Simulation parameters\n",
    "initial_blocksize = 300 # kB\n",
    "num_blocks_simulate = 36*30+1 #10000 # about 2 weeks\n",
    "current_blockchain_size_GB = 65 # GB\n",
    "circulating_supply = 16697487 # XMR\n",
    "\n",
    "# Economic parameters\n",
    "cost_of_1_XMR = 50 # EUR\n",
    "current_reward = 3.3 # XMR"
   ]
  },
  {
   "cell_type": "markdown",
   "metadata": {},
   "source": [
    "Set the timescale and growth bound for two-point short/long term memory. The short-term memory uses the current implementation; with `long_term_max_growth = 4` and `long_term_memory = 600` the long-term memory allows the block size to quadruple every day (which is a very generous overestimate, especially for sustained growth)."
   ]
  },
  {
   "cell_type": "code",
   "execution_count": 3,
   "metadata": {},
   "outputs": [],
   "source": [
    "# For 2-point short/long-term memory\n",
    "\n",
    "short_term_max_growth = 1.4 # multiplier\n",
    "short_term_memory = 100 # blocks\n",
    "long_term_max_growth = 50 # quadruple\n",
    "long_term_memory = 100000 # on order of 1 day \n",
    "LSTM_legend = '2-point memory: min['+str(short_term_max_growth)+'*M('+str(short_term_memory)+'), '+str(long_term_max_growth)+'*M('+str(long_term_memory)+')'+']'"
   ]
  },
  {
   "cell_type": "markdown",
   "metadata": {},
   "source": [
    "Set the number of (exponentially-distributed) time scales to be used in the span multi-timescale memory model. For example, `index_offset = 7` and `index_set_size = 6` checks the growth in the last $2^7$ blocks, last $2^8$ blocks, ..., last $2^{13}$ blocks."
   ]
  },
  {
   "cell_type": "code",
   "execution_count": 4,
   "metadata": {},
   "outputs": [],
   "source": [
    "# For span memory (multi-timescale)\n",
    "index_offset = 7\n",
    "index_set_size = 6"
   ]
  },
  {
   "cell_type": "markdown",
   "metadata": {},
   "source": [
    "Set the size for temporary fixed cap"
   ]
  },
  {
   "cell_type": "code",
   "execution_count": 5,
   "metadata": {},
   "outputs": [],
   "source": [
    "fixed_cap_kB = 5000"
   ]
  },
  {
   "cell_type": "markdown",
   "metadata": {},
   "source": [
    "Let's model additive growth (linear result) while we're at it"
   ]
  },
  {
   "cell_type": "code",
   "execution_count": 6,
   "metadata": {},
   "outputs": [],
   "source": [
    "additive_allowance_kB = 300"
   ]
  },
  {
   "cell_type": "markdown",
   "metadata": {},
   "source": [
    "### Initialize simulation"
   ]
  },
  {
   "cell_type": "code",
   "execution_count": 7,
   "metadata": {},
   "outputs": [],
   "source": [
    "# Initialize with lowball estimate that last 100 blocks were 100 kB in size\n",
    "pre_length = max(100, long_term_memory, 2**(7+index_set_size))\n",
    "\n",
    "height_vector = list(range(-pre_length,num_blocks_simulate)) \n",
    "block_sizes = (pre_length+num_blocks_simulate)*[initial_blocksize] # For regular model\n",
    "block_sizes_LSTM = (pre_length+num_blocks_simulate)*[initial_blocksize] # For 2-point memory\n",
    "block_sizes_span = (pre_length+num_blocks_simulate)*[initial_blocksize] # For span memory\n",
    "block_sizes_cap = (pre_length+num_blocks_simulate)*[initial_blocksize] # For temporary cap\n",
    "block_sizes_add = (pre_length+num_blocks_simulate)*[initial_blocksize] # For additive approach"
   ]
  },
  {
   "cell_type": "markdown",
   "metadata": {},
   "source": [
    "### Run simulation\n",
    "Simulation loops over heights, and models three possible boundings:\n",
    "-  Short term memory only (current implementation)\n",
    "-  Two-point short/long-term memory\n",
    "-  Span memory, a generalization to more than 2 points/timescales"
   ]
  },
  {
   "cell_type": "code",
   "execution_count": 8,
   "metadata": {},
   "outputs": [],
   "source": [
    "for attack_block_num in range(pre_length, pre_length + num_blocks_simulate):\n",
    "        \n",
    "    # Model short-term memory (current method)\n",
    "    last_blocks = block_sizes[(attack_block_num-100):attack_block_num]\n",
    "    median_prev = np.median(last_blocks)\n",
    "    next_size = 2*median_prev\n",
    "    block_sizes[attack_block_num] = next_size\n",
    "    \n",
    "    # Model two-point short/long-term memory   \n",
    "    last_blocks_short = block_sizes_LSTM[(attack_block_num-short_term_memory):attack_block_num]\n",
    "    median_prev_short = np.median(last_blocks_short)\n",
    "    next_size_short = short_term_max_growth*median_prev_short\n",
    "    last_blocks_long = block_sizes_LSTM[(attack_block_num-long_term_memory):attack_block_num]\n",
    "    median_prev_long = np.median(last_blocks_long)\n",
    "    next_size_long = long_term_max_growth*median_prev_long\n",
    "    next_size_LSTM = min(next_size_short, next_size_long)\n",
    "    block_sizes_LSTM[attack_block_num] = next_size_LSTM  \n",
    "    \n",
    "    # Model span multi-timescale memory\n",
    "    size_list = index_set_size*[np.inf]\n",
    "    c = 0\n",
    "    for k in range(index_offset, index_offset + index_set_size):\n",
    "        this_memory_len = 2**k\n",
    "        last_blocks_span = block_sizes_span[(attack_block_num-this_memory_len):attack_block_num]\n",
    "        median_prev_span = np.median(last_blocks_span) \n",
    "        this_B = (2+c/index_set_size)*median_prev_span\n",
    "        size_list[c] = this_B\n",
    "        c = c + 1\n",
    "    block_sizes_span[attack_block_num] = min(size_list)\n",
    "        \n",
    "    # Model cap\n",
    "    last_blocks_cap = block_sizes_cap[(attack_block_num-100):attack_block_num]\n",
    "    median_prev_cap = np.median(last_blocks_cap)\n",
    "    next_size_cap = min(2*median_prev_cap, fixed_cap_kB)\n",
    "    block_sizes_cap[attack_block_num] = next_size_cap\n",
    "    \n",
    "    # Model add\n",
    "    last_blocks_add = block_sizes_add[(attack_block_num-100):attack_block_num]\n",
    "    median_prev_add = np.median(last_blocks_add)\n",
    "    next_size_add = median_prev_add + additive_allowance_kB\n",
    "    block_sizes_add[attack_block_num] = next_size_add\n",
    "        \n"
   ]
  },
  {
   "cell_type": "markdown",
   "metadata": {},
   "source": [
    "## Plot results"
   ]
  },
  {
   "cell_type": "markdown",
   "metadata": {},
   "source": [
    "### Block size increase"
   ]
  },
  {
   "cell_type": "code",
   "execution_count": 9,
   "metadata": {},
   "outputs": [
    {
     "data": {
      "image/png": "[encoded data removed]",
      "text/plain": [
       "<Figure size 396x216 with 1 Axes>"
      ]
     },
     "metadata": {},
     "output_type": "display_data"
    }
   ],
   "source": [
    "fig = plt.figure(figsize=(5.5,3))\n",
    "ax = fig.add_subplot(111)\n",
    "plt.plot(height_vector, block_sizes,'r', label='Curent method: 2x every 100 blocks')\n",
    "plt.plot(height_vector, block_sizes_add,'g', label = 'Additive limit: ' + str(additive_allowance_kB) + ' kB increase per block')\n",
    "plt.plot(height_vector, block_sizes_LSTM,'c', label = LSTM_legend)\n",
    "plt.set_yscale = 'log'\n",
    "plt.xlabel('time (blocks)', fontsize='12')\n",
    "plt.ylabel('blocksize (kB)',  fontsize='12')\n",
    "plt.title('Block size limit (kB)',  fontsize='18')\n",
    "plt.grid(True)\n",
    "ax.legend(loc='best', fontsize='10')\n",
    "ax.set_xlim(0, num_blocks_simulate)\n",
    "ax.set_yscale('log')\n",
    "#ax.set_ylim(1,block_sizes[num_blocks_simulate])\n",
    "ax.set_ylim(1e2,1e6)\n",
    "plt.xticks(size = 12)\n",
    "plt.yticks(size = 12)\n",
    "#plt.text(200, 2, 'Isthmus', fontsize=12)\n",
    "plt.show()"
   ]
  },
  {
   "cell_type": "markdown",
   "metadata": {},
   "source": [
    "### Blockchain size bloat"
   ]
  },
  {
   "cell_type": "code",
   "execution_count": 10,
   "metadata": {},
   "outputs": [
    {
     "data": {
      "image/png": "[encoded data removed]",
      "text/plain": [
       "<Figure size 396x216 with 1 Axes>"
      ]
     },
     "metadata": {},
     "output_type": "display_data"
    }
   ],
   "source": [
    "fig = plt.figure(figsize=(5.5,3))\n",
    "ax = fig.add_subplot(111)\n",
    "plt.plot(height_vector, current_blockchain_size_GB + np.cumsum(block_sizes)/1e6,'r', label='Curent method: 2x every 100 blocks')\n",
    "plt.plot(height_vector, current_blockchain_size_GB + np.cumsum(block_sizes_add)/1e6,'g',  label = 'Additive limit: ' + str(additive_allowance_kB) + ' kB increase per block')\n",
    "plt.plot(height_vector, current_blockchain_size_GB + np.cumsum(block_sizes_LSTM)/1e6,'c', label = LSTM_legend)\n",
    "plt.set_yscale = 'log'\n",
    "plt.xlabel('time (blocks)', fontsize='12')\n",
    "plt.ylabel('Blockchain size (GB)',  fontsize='12')\n",
    "plt.title('Blockchain size limit (GB)',  fontsize='18')\n",
    "plt.grid(True)\n",
    "ax.legend(loc='best', fontsize='10')\n",
    "ax.set_xlim(0, num_blocks_simulate)\n",
    "ax.set_yscale('log')\n",
    "ax.set_ylim([65,1e3])\n",
    "plt.xticks(size = 12)\n",
    "plt.yticks(size = 12)\n",
    "plt.show()\n"
   ]
  },
  {
   "cell_type": "markdown",
   "metadata": {},
   "source": [
    "## Cost analysis (GB bloat per €)"
   ]
  },
  {
   "cell_type": "code",
   "execution_count": 11,
   "metadata": {},
   "outputs": [
    {
     "data": {
      "image/png": "[encoded data removed]",
      "text/plain": [
       "<Figure size 396x216 with 1 Axes>"
      ]
     },
     "metadata": {},
     "output_type": "display_data"
    }
   ],
   "source": [
    "fig = plt.figure(figsize=(5.5,3))\n",
    "ax = fig.add_subplot(111)\n",
    "cost_vector = [h*(cost_of_1_XMR*current_reward) for h in height_vector]\n",
    "cum_curr_GB =  current_blockchain_size_GB + np.cumsum(block_sizes)/1e6;\n",
    "plt.plot(cost_vector, current_blockchain_size_GB + np.cumsum(block_sizes)/1e6,'r', label='Curent method: 2x every 100 blocks')\n",
    "plt.plot(cost_vector, current_blockchain_size_GB + np.cumsum(block_sizes_add)/1e6, 'g', label = 'Additive limit: ' + str(additive_allowance_kB) + ' kB increase per block')\n",
    "plt.plot(cost_vector, current_blockchain_size_GB + np.cumsum(block_sizes_LSTM)/1e6,'c', label = LSTM_legend)\n",
    "\n",
    "plt.xlabel('Budget for attack (EUR)', fontsize='12')\n",
    "plt.ylabel('Blockchain size (GB)',  fontsize='12')\n",
    "plt.set_yscale = 'log'\n",
    "plt.title('Cost of attack (GB bloat per €)',  fontsize='18')\n",
    "plt.grid(True)\n",
    "ax.legend(loc='best', fontsize='10')\n",
    "ax.set_xlim(1, max(cost_vector))\n",
    "ax.set_ylim(65,1e5)\n",
    "ax.set_yscale('log')\n",
    "plt.xticks(size = 12)\n",
    "plt.yticks(size = 12)\n",
    "#plt.text(20000, 100, 'Isthmus', fontsize=12)\n",
    "plt.show()"
   ]
  },
  {
   "cell_type": "markdown",
   "metadata": {},
   "source": [
    "### Check out some key times, sizes, costs\n",
    "This is a bunch of verbose text output, if desired. Commented out"
   ]
  },
  {
   "cell_type": "code",
   "execution_count": 12,
   "metadata": {},
   "outputs": [
    {
     "name": "stdout",
     "output_type": "stream",
     "text": [
      "\n",
      "*************************\n",
      "At the end of the 6:\n",
      "-\n",
      "# Current algorithm\n",
      "Blocksize = 4800.0 kB\n",
      ">>> Blockchain size = 65.3489 GB\n",
      "-\n",
      "# Additive cap\n",
      "300 kB additive allowance\n",
      "Blocksize = 1500.0 kB\n",
      "Blockchain size = 65.1791 GB\n",
      "-\n",
      "# Hard cap\n",
      "5000 kB hard cap\n",
      "Blocksize = 4800.0 kB\n",
      "Blockchain size = 65.3489 GB\n",
      "-\n",
      "Cost to attacker ~ 594.0 XMR\n",
      "Cost to attacker ~ 29700.0 EUR\n",
      "stake ~ 0.004%\n",
      "\n",
      "*************************\n",
      "At the end of the 12:\n",
      "-\n",
      "# Current algorithm\n",
      "Blocksize = 76800.0 kB\n",
      ">>> Blockchain size = 69.3473 GB\n",
      "-\n",
      "# Additive cap\n",
      "300 kB additive allowance\n",
      "Blocksize = 2700.0 kB\n",
      "Blockchain size = 65.5478 GB\n",
      "-\n",
      "# Hard cap\n",
      "5000 kB hard cap\n",
      "Blocksize = 5000 kB\n",
      "Blockchain size = 66.2449 GB\n",
      "-\n",
      "Cost to attacker ~ 1188.0 XMR\n",
      "Cost to attacker ~ 59400.0 EUR\n",
      "stake ~ 0.006999999999999999%\n",
      "\n",
      "*************************\n",
      "At the end of the 18:\n",
      "-\n",
      "# Current algorithm\n",
      "Blocksize = 614400.0 kB\n",
      ">>> Blockchain size = 117.5009 GB\n",
      "-\n",
      "# Additive cap\n",
      "300 kB additive allowance\n",
      "Blocksize = 3600.0 kB\n",
      "Blockchain size = 66.11075 GB\n",
      "-\n",
      "# Hard cap\n",
      "5000 kB hard cap\n",
      "Blocksize = 5000 kB\n",
      "Blockchain size = 67.1449 GB\n",
      "-\n",
      "Cost to attacker ~ 1782.0 XMR\n",
      "Cost to attacker ~ 89100.0 EUR\n",
      "stake ~ 0.011000000000000001%\n",
      "\n",
      "*************************\n",
      "At the end of the 24:\n",
      "-\n",
      "# Current algorithm\n",
      "Blocksize = 9830400.0 kB\n",
      ">>> Blockchain size = 689.2001 GB\n",
      "-\n",
      "# Additive cap\n",
      "300 kB additive allowance\n",
      "Blocksize = 4800.0 kB\n",
      "Blockchain size = 66.86525 GB\n",
      "-\n",
      "# Hard cap\n",
      "5000 kB hard cap\n",
      "Blocksize = 5000 kB\n",
      "Blockchain size = 68.0449 GB\n",
      "-\n",
      "Cost to attacker ~ 2376.0 XMR\n",
      "Cost to attacker ~ 118800.0 EUR\n",
      "stake ~ 0.013999999999999999%\n",
      "\n",
      "*************************\n",
      "At the end of the 36:\n",
      "-\n",
      "# Current algorithm\n",
      "Blocksize = 1258291200.0 kB\n",
      ">>> Blockchain size = 88145.3537 GB\n",
      "-\n",
      "# Additive cap\n",
      "300 kB additive allowance\n",
      "Blocksize = 6900.0 kB\n",
      "Blockchain size = 68.95235 GB\n",
      "-\n",
      "# Hard cap\n",
      "5000 kB hard cap\n",
      "Blocksize = 5000 kB\n",
      "Blockchain size = 69.8449 GB\n",
      "-\n",
      "Cost to attacker ~ 3564.0 XMR\n",
      "Cost to attacker ~ 178200.0 EUR\n",
      "stake ~ 0.021%\n",
      "\n",
      "*************************\n",
      "At the end of the 2nd day:\n",
      "-\n",
      "# Current algorithm\n"
     ]
    },
    {
     "ename": "IndexError",
     "evalue": "list index out of range",
     "output_type": "error",
     "traceback": [
      "\u001b[0;31m---------------------------------------------------------------------------\u001b[0m",
      "\u001b[0;31mIndexError\u001b[0m                                Traceback (most recent call last)",
      "\u001b[0;32m<ipython-input-12-8e0510ff61ef>\u001b[0m in \u001b[0;36m<module>\u001b[0;34m()\u001b[0m\n\u001b[1;32m     10\u001b[0m         \u001b[0mprint\u001b[0m\u001b[0;34m(\u001b[0m\u001b[0;34m'-'\u001b[0m\u001b[0;34m)\u001b[0m\u001b[0;34m\u001b[0m\u001b[0m\n\u001b[1;32m     11\u001b[0m         \u001b[0mprint\u001b[0m\u001b[0;34m(\u001b[0m\u001b[0;34m'# Current algorithm'\u001b[0m\u001b[0;34m)\u001b[0m\u001b[0;34m\u001b[0m\u001b[0m\n\u001b[0;32m---> 12\u001b[0;31m         \u001b[0mprint\u001b[0m\u001b[0;34m(\u001b[0m\u001b[0;34m'Blocksize = '\u001b[0m \u001b[0;34m+\u001b[0m \u001b[0mstr\u001b[0m\u001b[0;34m(\u001b[0m\u001b[0mblock_sizes\u001b[0m\u001b[0;34m[\u001b[0m\u001b[0mpre_length\u001b[0m \u001b[0;34m+\u001b[0m \u001b[0mtime_in_blocks\u001b[0m\u001b[0;34m]\u001b[0m\u001b[0;34m)\u001b[0m \u001b[0;34m+\u001b[0m \u001b[0;34m' kB'\u001b[0m\u001b[0;34m)\u001b[0m\u001b[0;34m\u001b[0m\u001b[0m\n\u001b[0m\u001b[1;32m     13\u001b[0m         \u001b[0mprint\u001b[0m\u001b[0;34m(\u001b[0m\u001b[0;34m'>>> Blockchain size = '\u001b[0m \u001b[0;34m+\u001b[0m \u001b[0mstr\u001b[0m\u001b[0;34m(\u001b[0m\u001b[0mcurrent_blockchain_size_GB\u001b[0m \u001b[0;34m+\u001b[0m \u001b[0msum\u001b[0m\u001b[0;34m(\u001b[0m\u001b[0mblock_sizes\u001b[0m\u001b[0;34m[\u001b[0m\u001b[0mpre_length\u001b[0m\u001b[0;34m:\u001b[0m\u001b[0;34m(\u001b[0m\u001b[0mpre_length\u001b[0m \u001b[0;34m+\u001b[0m \u001b[0mtime_in_blocks\u001b[0m\u001b[0;34m)\u001b[0m\u001b[0;34m]\u001b[0m\u001b[0;34m)\u001b[0m\u001b[0;34m/\u001b[0m\u001b[0;36m1e6\u001b[0m\u001b[0;34m)\u001b[0m \u001b[0;34m+\u001b[0m \u001b[0;34m' GB'\u001b[0m\u001b[0;34m)\u001b[0m\u001b[0;34m\u001b[0m\u001b[0m\n\u001b[1;32m     14\u001b[0m         \u001b[0mprint\u001b[0m\u001b[0;34m(\u001b[0m\u001b[0;34m'-'\u001b[0m\u001b[0;34m)\u001b[0m\u001b[0;34m\u001b[0m\u001b[0m\n",
      "\u001b[0;31mIndexError\u001b[0m: list index out of range"
     ]
    }
   ],
   "source": [
    "skip_me = 0\n",
    "\n",
    "if skip_me < 1:\n",
    "#    time_dict = {30: '1st hour', 9*30:'9th hour', 18*30:'18th hour', 24*30:'1st day', 36*30:'36th hour', 2*24*30:'2nd day', 7*24*30:'1st week'}\n",
    "    time_dict = {6*30: '6', 12*30:'12', 18*30:'18', 24*30:'24', 36*30:'36', 2*24*30:'2nd day', 7*24*30:'1st week'}\n",
    "\n",
    "    for time_in_blocks in time_dict:\n",
    "        print('\\n' + 25*'*')\n",
    "        print('At the end of the ' + time_dict[time_in_blocks] + ':')\n",
    "        print('-')\n",
    "        print('# Current algorithm')\n",
    "        print('Blocksize = ' + str(block_sizes[pre_length + time_in_blocks]) + ' kB')\n",
    "        print('>>> Blockchain size = ' + str(current_blockchain_size_GB + sum(block_sizes[pre_length:(pre_length + time_in_blocks)])/1e6) + ' GB')\n",
    "        print('-')\n",
    "        #print('# Two-point short/long-term algorithm')\n",
    "        #print('Blocksize = ' + str(block_sizes_LSTM[pre_length + time_in_blocks]) + ' kB')\n",
    "        #print('Blockchain size = ' + str(current_blockchain_size_GB + sum(block_sizes_LSTM[pre_length:(pre_length + time_in_blocks)])/1e6) + ' GB')\n",
    "        #print('-')\n",
    "        #print('# Two-point short/long-term algorithm')\n",
    "        #print('Blocksize = ' + str(block_sizes_span[pre_length + time_in_blocks]) + ' kB')\n",
    "        #print('Blockchain size = ' + str(current_blockchain_size_GB + sum(block_sizes_span[pre_length:(pre_length + time_in_blocks)])/1e6) + ' GB')\n",
    "        #print('-')\n",
    "        \n",
    "        \n",
    "        print('# Additive cap')\n",
    "        print(str(additive_allowance_kB) + ' kB additive allowance')\n",
    "        print('Blocksize = ' + str(block_sizes_add[pre_length + time_in_blocks]) + ' kB')\n",
    "        print('Blockchain size = ' + str(current_blockchain_size_GB + sum(block_sizes_add[pre_length:(pre_length + time_in_blocks)])/1e6) + ' GB')\n",
    "        print('-')\n",
    "        \n",
    "        \n",
    "        print('# Hard cap')\n",
    "        print(str(fixed_cap_kB) + ' kB hard cap')\n",
    "        print('Blocksize = ' + str(block_sizes_cap[pre_length + time_in_blocks]) + ' kB')\n",
    "        print('Blockchain size = ' + str(current_blockchain_size_GB + sum(block_sizes_cap[pre_length:(pre_length + time_in_blocks)])/1e6) + ' GB')\n",
    "        print('-')\n",
    "        \n",
    "        \n",
    "        print('Cost to attacker ~ ' + str(current_reward*time_in_blocks) + ' XMR')\n",
    "        print('Cost to attacker ~ ' + str(cost_of_1_XMR*current_reward*time_in_blocks) + ' EUR')\n",
    "        print('stake ~ ' + str(round(current_reward*time_in_blocks/circulating_supply,5)*100) + '%')\n"
   ]
  },
  {
   "cell_type": "markdown",
   "metadata": {},
   "source": [
    "## Observations"
   ]
  },
  {
   "cell_type": "markdown",
   "metadata": {},
   "source": [
    "For just over 200k EUR, an attacker can blast the Monero blocksize to 10 TB in less than 2 days. If the attack started Friday evening, almost all full nodes would be knocked off the network before Monday morning. See [The Ethereum-blockchain size has exceeded 1TB, and yes, it’s an issue](https://hackernoon.com/the-ethereum-blockchain-size-has-exceeded-1tb-and-yes-its-an-issue-2b650b5f4f62) for more discussion of this topic."
   ]
  },
  {
   "cell_type": "markdown",
   "metadata": {},
   "source": [
    "## FAQ\n",
    "\n",
    "Q: Won't miners voluntarily avoid mining large blocks?\n",
    "\n",
    "A1: The timescale of this attack can be mind-bogglingly FAST! In 36 hours, the blockchain explodes to 30 TB. To stop an in-progress attack, it would be necessary to modify major mining and pool software, and roll out updates across the ecosystem and dozens of platforms. The permanent damage would be on the order of tens of terabytes, even if every Monero engineer mobilized instantly with deft DevOps ability. I don't know if every random botnet operator is going to be following Reddit 24/7 and race to fix their mining pools in the middle of the night.\n",
    "\n",
    "A2: Voluntarily avoiding large blocks means voluntarily mining blocks with less profit. Some people are greedy.\n",
    "\n",
    "A3: Cryptocurrencies are designed to be resistant to block censorship, so any ideas to have the nodes or users reject large blocks will run into a lot of practical issues.\n",
    "\n",
    "--- \n",
    "Q: Isn't this expensive? Won't the attacker have to keep buying Monero on the open market at full price?\n",
    "\n",
    "A: That depends on your perspective. Major intelligence agencies have budgets on the order of tens of billions of euros. Crypto OG whales are worth millions. 200,000 EUR to tank the network by a 5 TB blockchain is a very small financial hurdle. \n",
    "\n",
    "The current ratio of (exchange rate):(block reward) makes this relatively inexpensive. An effectively-executed attack would not require more than 48 hours, so the attacker could just stock up on moneroj in advance. Additionally, the price will probably drop by more than an order of magnitude if nodes are choking on every block, so restocking wouldn't be particularly expensive.\n",
    "\n",
    "--- \n",
    "Q: Isn't this more expensive than a 51% attack?\n",
    "\n",
    "A1: A 51% is a totally different threat/consequence model. The blockchain big bang knocks nodes off the network, leaves permanent scars in the blockchain, and wreaks obvious major havoc in everybody's face with severe service disruptions. In contrast, a 51% attack on Monero is totally unnoticable to the rest of the ecosystem, causing no disruption to Monero's services, network, or community. \n",
    "\n",
    "A2: While the two attacks may cost the same *on paper*, there is a big logistical difference. Converting 200,000 EUR into purchasing half of the mining equipment / hashrate in the world is a huge endeavor. Converting 200,000 EUR into a blockchain big bang spam attack requires a few hours of coding open source software, and a laptop.\n",
    "\n",
    "---\n",
    "Q: We need a dynamic blocksize! What about an influx of legitimate transactions?\n",
    "\n",
    "A: Nobody is trying to take your dynamic blocksizes away from you. Protocol can be designed to allow short-term flexibility without having to allow unbounded extremes.\n",
    "\n",
    "If somebody can articulate a feasible use case where Monero's legitimate transaction volume sustains an increase by 4 orders of magnitude within a given day, then I will concede that we do not need an upper bound. Said use case must also include an explanation of how nodes and miners across the globe will all upgrade their equipment to handle an increase in 4 orders of magnitude in a day. (Temporary high fees are better than a permanantly-broken network).\n",
    "\n",
    "---\n",
    "Q: What happens if we implement an upper bound, and nobody ever tries this attack?\n",
    "\n",
    "A: That's an ideal outcome! In systems handling large amounts of money, it's better to be safe than sorry - properly implementing safeguards are always better than leaving any feature or process unbounded and up to fate. \n",
    "\n",
    "--- \n",
    "Q: How can we possibly adjust the blocksize algorithm?\n",
    "\n",
    "A: The current block size algorithm was designed by mere mortals, and should be subject to improvement just like every other aspect of the cryptocurrency. Belief that the first iteration of any system is perfect tends to be limiting, and often dangerous if it preserves vulnerabilities. \n",
    "\n",
    "---\n",
    "Q: Isn't this a pretty big decision?\n",
    "\n",
    "A: **YES, absolutely**. The discussion and development of mitigation strategies must include many different facets of the community - software engineers, economists, researchers, modelers, designers of the current algorithm, etc. This is a big undertaking that must be done deliberately. Each different strategy (or lack of one!) entails different consequences, and we must work together to make sure the community's solution does not introduce other issues / edge cases with financial incentives around mining, fees, etc. \n",
    "\n",
    "We should avoid both non-action and careless action.\n",
    "\n",
    "---\n",
    "Q: Have you thought about XXX mitigation strategy?\n",
    "\n",
    "A: Not yet, so please share your ideas with us in Noncesense Research Lab ([website](https://noncesense-research-lab.github.io/), [IRC](https://www.irccloud.com/invite?channel=%23noncesense-research-lab&hostname=chat.freenode.net&port=6697&ssl=1)) or the Monero Research Lab ([website](https://www.getmonero.org/resources/research-lab/), [IRC](https://www.irccloud.com/invite?channel=%23monero-research-lab&hostname=chat.freenode.net&port=6697&ssl=1))\n",
    "\n",
    "---\n",
    "Q: What about XXX fact that renders this notebook a moot point?\n",
    "\n",
    "A: Oh thank goodness, that's great news. Please share! Honestly, I'm hoping that there are some bloat attack safeguards in place, which are secure in a fees > coinbase situation that overrides the miner penalty mechanism. It is ideal if this notebook is in vain."
   ]
  }
 ],
 "metadata": {
  "kernelspec": {
   "display_name": "Python 3",
   "language": "python",
   "name": "python3"
  },
  "language_info": {
   "codemirror_mode": {
    "name": "ipython",
    "version": 3
   },
   "file_extension": ".py",
   "mimetype": "text/x-python",
   "name": "python",
   "nbconvert_exporter": "python",
   "pygments_lexer": "ipython3",
   "version": "3.6.5"
  }
 },
 "nbformat": 4,
 "nbformat_minor": 2
}
